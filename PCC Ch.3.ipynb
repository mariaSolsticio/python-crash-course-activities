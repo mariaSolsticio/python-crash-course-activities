{
 "cells": [
  {
   "cell_type": "code",
   "execution_count": null,
   "metadata": {
    "scrolled": true
   },
   "outputs": [],
   "source": [
    "bicycles = ['trek','cannondale','redline','specialized']\n",
    "print(bicycles[-4])"
   ]
  },
  {
   "cell_type": "code",
   "execution_count": null,
   "metadata": {},
   "outputs": [],
   "source": [
    "# Ex 3-1\n",
    "names = ['jenny','maria','mildred','sunny']\n",
    "print(names[0])\n",
    "print(names[1])\n",
    "print(names[2])\n",
    "print(names[3])\n"
   ]
  },
  {
   "cell_type": "code",
   "execution_count": null,
   "metadata": {},
   "outputs": [],
   "source": [
    "# Ex 3-2\n",
    "print(\"Print out the name of \" + names[0])\n",
    "print(\"Print out the name of \" + names[1])\n",
    "print(\"Print out the name of \" + names[2])\n",
    "print(\"Print out the name of \" + names[3])"
   ]
  },
  {
   "cell_type": "code",
   "execution_count": null,
   "metadata": {},
   "outputs": [],
   "source": [
    "# Ex 3-3\n",
    "transport = ['legs', 'bike', 'boat']\n",
    "print(\"I wish I could always run with my \" + transport[0] + \n",
    "      \",but if it cannot be done, I can take my \"+ transport[1] + \"or even a \" + transport[2]+\".\")"
   ]
  },
  {
   "cell_type": "code",
   "execution_count": 59,
   "metadata": {},
   "outputs": [
    {
     "name": "stdout",
     "output_type": "stream",
     "text": [
      "MAMA! Te extraño, ven a cenar conmigo.\n",
      "Papa, ven a cenar con nosotros, tenemos alguito que aclarar.\n",
      "Marcos, siempre te espero a cenar.\n"
     ]
    }
   ],
   "source": [
    "# Ex 3-4\n",
    "# Guest list: Make a list that includes at least three people you'd like to invite to dinner.  Use your list to \n",
    "# print a message to each person.\n",
    "\n",
    "invitados = [\"mama\", \"papa\", \"Marcos\"]\n",
    "\n",
    "print(invitados[0].upper() + \"! Te extraño, ven a cenar conmigo.\")\n",
    "print(invitados[1].title()+ \", ven a cenar con nosotros, tenemos alguito que aclarar.\")\n",
    "print(invitados[2].title()+ \", siempre te espero a cenar.\")\n",
    "\n"
   ]
  },
  {
   "cell_type": "code",
   "execution_count": 60,
   "metadata": {},
   "outputs": [
    {
     "name": "stdout",
     "output_type": "stream",
     "text": [
      "Mi papa no va a poder llegar\n",
      "['mama', 'mar', 'Marcos']\n",
      "Bienvenida MAMA!\n",
      "Bienvenida Mar!\n",
      "Bienvenido Marcos!\n"
     ]
    }
   ],
   "source": [
    "# Ex 3-5\n",
    "# One guest can't make it.  (1) Print the name of the one who can make it.\n",
    "print(\"Mi \" + invitados[1] + \" no va a poder llegar\")\n",
    "\n",
    "# Replace de name of the person that can't make it with the name of the new person.\n",
    "del invitados[1]\n",
    "invitados.insert(1,\"mar\")\n",
    "print(invitados)\n",
    "\n",
    "# Print a second set of invitation messages.\n",
    "print(\"Bienvenida \" + invitados[0].upper() + \"!\")\n",
    "print(\"Bienvenida \" + invitados[1].title() + \"!\")\n",
    "print(\"Bienvenido \" + invitados[2].title() + \"!\")"
   ]
  },
  {
   "cell_type": "code",
   "execution_count": 61,
   "metadata": {},
   "outputs": [
    {
     "name": "stdout",
     "output_type": "stream",
     "text": [
      "Puedo invitar más personas a la cena!\n",
      "['Marilu', 'mama', 'mar', 'Marcos']\n",
      "['Marilu', 'mama', 'Teresa', 'mar', 'Marcos']\n",
      "['Marilu', 'mama', 'Teresa', 'mar', 'Marcos', 'Amelia']\n",
      "Marilu: Te invito a mi fiesta!\n",
      "Mama: Te invito a mi fiesta!\n",
      "Teresa: Te invito a mi fiesta!\n",
      "Mar: Te invito a mi fiesta!\n",
      "Marcos: Te invito a mi fiesta!\n",
      "Amelia: Te invito a mi fiesta!\n",
      "6\n"
     ]
    }
   ],
   "source": [
    "# Ex 3-6\n",
    "# Inviting more guests.\n",
    "\n",
    "# Tell people there is more space on the table.\n",
    "print(\"Puedo invitar más personas a la cena!\")\n",
    "\n",
    "# Add one person at the beginning of the list.\n",
    "invitados.insert(0,\"Marilu\")\n",
    "print(invitados)\n",
    "\n",
    "# Add one person at the middle of the list.\n",
    "invitados.insert(2,\"Teresa\")\n",
    "print(invitados)\n",
    "\n",
    "# Add one guest to the end of the list.\n",
    "invitados.append(\"Amelia\")\n",
    "print(invitados)\n",
    "\n",
    "message = \": Te invito a mi fiesta!\"\n",
    "print(invitados[0].title() + message)\n",
    "print(invitados[1].title() + message)\n",
    "print(invitados[2].title() + message)\n",
    "print(invitados[3].title() + message)\n",
    "print(invitados[4].title() + message)\n",
    "print(invitados[5].title() + message)\n",
    "\n",
    "print(len(invitados))"
   ]
  },
  {
   "cell_type": "code",
   "execution_count": null,
   "metadata": {},
   "outputs": [],
   "source": [
    "# Ex 3-7\n",
    "\n",
    "# Print message 'cause you can only have two persons now.\n",
    "print(\"Cambio de planes, sólo tengo espacio para dos personas.:( \")\n",
    "\n",
    "# Remove guests from your list one at a time until only two names remain.\n",
    "message=\"! Perdóname por desinvitarte.\"\n",
    "\n",
    "bye1=invitados.pop()\n",
    "print(bye1.title() + message)\n",
    "\n",
    "bye2=invitados.pop()\n",
    "print(bye2.title() + message)\n",
    "\n",
    "bye3=invitados.pop()\n",
    "print(bye3.title() + message)\n",
    "\n",
    "bye4=invitados.pop()\n",
    "print(bye4.title() + message)\n",
    "\n",
    "#Dejando mi lista vacía\n",
    "del invitados[1]\n",
    "del invitados[0]\n",
    "\n",
    "print(invitados)"
   ]
  },
  {
   "cell_type": "code",
   "execution_count": null,
   "metadata": {},
   "outputs": [],
   "source": [
    "# Ex 3-8\n",
    "wander=[\"Egypt\", \"Island\", \"Australia\", \"Antartica\", \"Borneo\"]\n",
    "alpwander=sorted(wander)\n",
    "\n",
    "print(wander)\n",
    "print(alpwander)\n",
    "\n",
    "wander.reverse()\n",
    "print(wander)\n",
    "wander.reverse()\n",
    "print(wander)\n",
    "\n",
    "wander.sort()\n",
    "print(wander)\n",
    "\n",
    "wander.sort(reverse=True)\n",
    "print(wander)\n"
   ]
  }
 ],
 "metadata": {
  "kernelspec": {
   "display_name": "Python 3",
   "language": "python",
   "name": "python3"
  },
  "language_info": {
   "codemirror_mode": {
    "name": "ipython",
    "version": 3
   },
   "file_extension": ".py",
   "mimetype": "text/x-python",
   "name": "python",
   "nbconvert_exporter": "python",
   "pygments_lexer": "ipython3",
   "version": "3.7.0"
  }
 },
 "nbformat": 4,
 "nbformat_minor": 2
}
