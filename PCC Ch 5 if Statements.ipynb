{
 "cells": [
  {
   "cell_type": "code",
   "execution_count": null,
   "metadata": {},
   "outputs": [],
   "source": [
    "# Chapter 5 is all about the 'if statement' \n",
    "# Ex 5-3 Alien Colors #1\n",
    "\n",
    "colors = ['green','yellow','red','brown']\n",
    "\n",
    "for color in colors:\n",
    "    alien_color = color\n",
    "    if alien_color == 'green':\n",
    "        print(\"You have just earned 5 points!\")\n",
    "    elif alien_color == 'yellow':\n",
    "        print(\"You have just earned 10 points!\")\n",
    "    elif alien_color == 'red':\n",
    "        print(\"You have just earned 15 points!\")\n",
    "    else:\n",
    "        print('There are no other valid colors')\n"
   ]
  },
  {
   "cell_type": "code",
   "execution_count": 8,
   "metadata": {},
   "outputs": [
    {
     "name": "stdout",
     "output_type": "stream",
     "text": [
      "What is your age?  33\n",
      "Want it or not, you are an adult.\n"
     ]
    }
   ],
   "source": [
    "# Ex 5-6 Stages of life.\n",
    "\n",
    "age = int(input('What is your age?  '))\n",
    "\n",
    "if age < 2:\n",
    "    print('You are just a baby!')\n",
    "elif age<4:\n",
    "    print('You are a toddler.')\n",
    "elif age < 13:\n",
    "    print('You my friend, are a kid.')\n",
    "elif age < 20:\n",
    "    print('The golden age! You are a teenager.')\n",
    "elif age < 65:\n",
    "    print('Want it or not, you are an adult.')\n",
    "elif age >= 65:\n",
    "    print('You will not be an elder!')\n",
    "    \n",
    "\n"
   ]
  },
  {
   "cell_type": "code",
   "execution_count": 14,
   "metadata": {},
   "outputs": [
    {
     "name": "stdout",
     "output_type": "stream",
     "text": [
      "You really like strawberry\n",
      "You really like apricot\n",
      "You really like apple\n"
     ]
    }
   ],
   "source": [
    "# Ex 5-7 Make a list of your favorite fruits, and then write a series of independent if statements that check\n",
    "# for certain fruits in your list.\n",
    "\n",
    "fruits = ['strawberry','apricot', 'apple', 'banana','orange']\n",
    "\n",
    "fruits_slice = fruits[0:3]\n",
    "\n",
    "for fruit in fruits:\n",
    "    if fruit in fruits_slice: print('You really like ' + fruit)"
   ]
  },
  {
   "cell_type": "code",
   "execution_count": 17,
   "metadata": {},
   "outputs": [
    {
     "name": "stdout",
     "output_type": "stream",
     "text": [
      "Hello admin, would you like to see a status report?\n",
      "Welcome cofounder to whatever it is we do!\n",
      "Welcome ceo to whatever it is we do!\n",
      "Welcome cto to whatever it is we do!\n",
      "Welcome cat to whatever it is we do!\n",
      "usernames is now empty\n",
      "Printing usuarios instead:\n",
      "['admin', 'cofounder', 'ceo', 'cto', 'cat']\n"
     ]
    }
   ],
   "source": [
    "# Ex 5-8 Make a list of five or more usernames, including 'admin'.  Print a special message to the admin.\n",
    "usernames = ['admin','cofounder','ceo', 'cto','cat']\n",
    "\n",
    "for username in usernames:\n",
    "    if username == 'admin':\n",
    "        print('Hello admin, would you like to see a status report?')\n",
    "    else:\n",
    "        print('Welcome '+ username + ' to whatever it is we do!')\n",
    "        \n",
    "usuarios = usernames[:]\n",
    "\n",
    "for username in usernames:\n",
    "    usernames.remove(username)\n",
    "    \n",
    "if usernames:\n",
    "    print('usernames is now empty')\n",
    "    print('Printing usuarios instead:')\n",
    "    print(usuarios)\n",
    "else:\n",
    "    print('You did not remove items from usernames efficiently.')\n"
   ]
  },
  {
   "cell_type": "code",
   "execution_count": 21,
   "metadata": {},
   "outputs": [
    {
     "name": "stdout",
     "output_type": "stream",
     "text": [
      "The name ofelia is good to use.\n",
      "The name gilberto is good to use.\n",
      "The name marilu is already in use, try a new one.\n",
      "The name marcos is good to use.\n",
      "The name sol is good to use.\n"
     ]
    }
   ],
   "source": [
    "# Ex 5-10\n",
    "# Make a list of five or more usernames calles 'current_users'\n",
    "\n",
    "current_users = ['marilu', 'teresa', 'amelia', 'olivia', 'matilda']\n",
    "new_users = ['ofelia', 'gilberto', 'marilu', 'marcos', 'sol']\n",
    "\n",
    "# Making everything lower case first.\n",
    "for current_user in current_users:\n",
    "    \n",
    "\n",
    "for new_user in new_users:\n",
    "    if new_user in current_users:\n",
    "        print('The name ' + new_user + ' is already in use, try a new one.')\n",
    "    else:\n",
    "        print('The name '+ new_user + ' is good to use.')\n",
    "\n"
   ]
  },
  {
   "cell_type": "code",
   "execution_count": 25,
   "metadata": {},
   "outputs": [
    {
     "name": "stdout",
     "output_type": "stream",
     "text": [
      "[1, 2, 3, 4, 5, 6, 7, 8, 9]\n",
      "1st\n",
      "2nd\n",
      "3th\n",
      "4th\n",
      "5th\n",
      "6th\n",
      "7th\n",
      "8th\n",
      "9th\n"
     ]
    }
   ],
   "source": [
    "# Ex 5-11\n",
    "# Ordinal numbers.\n",
    "\n",
    "ordinal_numbers = list(range(1,10))\n",
    "print(ordinal_numbers)\n",
    "\n",
    "for ordinal_number in ordinal_numbers:\n",
    "    if ordinal_number == 1:\n",
    "        print(str(ordinal_number) + 'st')\n",
    "    elif ordinal_number == 2:\n",
    "        print(str(ordinal_number) + 'nd')\n",
    "    else:\n",
    "        print(str(ordinal_number) + 'th')\n",
    "        \n"
   ]
  }
 ],
 "metadata": {
  "kernelspec": {
   "display_name": "Python 3",
   "language": "python",
   "name": "python3"
  },
  "language_info": {
   "codemirror_mode": {
    "name": "ipython",
    "version": 3
   },
   "file_extension": ".py",
   "mimetype": "text/x-python",
   "name": "python",
   "nbconvert_exporter": "python",
   "pygments_lexer": "ipython3",
   "version": "3.7.0"
  }
 },
 "nbformat": 4,
 "nbformat_minor": 2
}
