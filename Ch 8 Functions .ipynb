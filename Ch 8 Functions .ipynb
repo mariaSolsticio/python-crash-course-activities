{
 "cells": [
  {
   "cell_type": "code",
   "execution_count": 1,
   "metadata": {},
   "outputs": [
    {
     "name": "stdout",
     "output_type": "stream",
     "text": [
      "Hello!\n"
     ]
    }
   ],
   "source": [
    "# Function definition\n",
    "def greet_user():\n",
    "    \"\"\"Display a simple greeting.\"\"\"# This is a docstring.\n",
    "    print(\"Hello!\")\n",
    "    \n",
    "greet_user()"
   ]
  },
  {
   "cell_type": "code",
   "execution_count": 3,
   "metadata": {},
   "outputs": [
    {
     "name": "stdout",
     "output_type": "stream",
     "text": [
      "Cuál es tu nombre? Sol\n",
      "Hello Sol!\n"
     ]
    }
   ],
   "source": [
    "# Function definition\n",
    "def greet_user(username):\n",
    "    \"\"\"Display a simple greeting.\"\"\"# This is a docstring.\n",
    "    print(\"Hello \" + username + \"!\")\n",
    "\n",
    "username = input(\"Cuál es tu nombre? \")\n",
    "greet_user(username)"
   ]
  },
  {
   "cell_type": "code",
   "execution_count": 11,
   "metadata": {},
   "outputs": [
    {
     "name": "stdout",
     "output_type": "stream",
     "text": [
      "Hello Sol, you are 15 years old.\n"
     ]
    }
   ],
   "source": [
    "# typing library lets me define the variable types from the beginning :)\n",
    "import typing\n",
    "\n",
    "def greeting(name: str, age: int) -> str:\n",
    "    print('Hello '+ name + \", you are \" + str(age) + \" years old.\") \n",
    "\n",
    "greeting(\"Sol\", 15)"
   ]
  },
  {
   "cell_type": "code",
   "execution_count": 7,
   "metadata": {},
   "outputs": [
    {
     "name": "stdout",
     "output_type": "stream",
     "text": [
      "I am now learning about functions\n"
     ]
    }
   ],
   "source": [
    "# Ex 8-1  Message: write a function called display_message() that prints one sentence telling everyone \n",
    "# what you are learning about in this chapter.  Call the function and make sure the message displays correctly.\n",
    "\n",
    "def display_message():\n",
    "    print(\"I am now learning about functions\")\n",
    "    \n",
    "display_message()"
   ]
  },
  {
   "cell_type": "code",
   "execution_count": 8,
   "metadata": {},
   "outputs": [
    {
     "name": "stdout",
     "output_type": "stream",
     "text": [
      "Mi libro favorito es Tiempos difíciles.\n"
     ]
    }
   ],
   "source": [
    "# Ex 8-2 Favorite book: write a function called favorite_book() that accepts one parameter, title.\n",
    "# The function should print a message, such as One of my favorite books is Alice in Wonderland.  \n",
    "\n",
    "def favorite_book(titulo):\n",
    "    print(\"Mi libro favorito es \" + titulo + \".\")\n",
    "    \n",
    "favorite_book(\"Tiempos difíciles\")"
   ]
  },
  {
   "cell_type": "code",
   "execution_count": 19,
   "metadata": {},
   "outputs": [
    {
     "ename": "SyntaxError",
     "evalue": "non-default argument follows default argument (<ipython-input-19-ab1cc0e932f5>, line 2)",
     "output_type": "error",
     "traceback": [
      "\u001b[0;36m  File \u001b[0;32m\"<ipython-input-19-ab1cc0e932f5>\"\u001b[0;36m, line \u001b[0;32m2\u001b[0m\n\u001b[0;31m    def describe_pet(animal_type = 'dog', pet_name):\u001b[0m\n\u001b[0m                    ^\u001b[0m\n\u001b[0;31mSyntaxError\u001b[0m\u001b[0;31m:\u001b[0m non-default argument follows default argument\n"
     ]
    }
   ],
   "source": [
    "# Positional arguments in a function\n",
    "def describe_pet(animal_type = 'dog', pet_name):\n",
    "    \"\"\"Display information about a pet.\"\"\"\n",
    "    print(\"\\nI have a \" + animal_type + \".\")\n",
    "    print(\"My \" + animal_type + \"'s name is \" + pet_name.title() + \".\")\n",
    "    \n",
    "describe_pet(\"dog\", \"Amelia\")\n",
    "describe_pet(\"dog\", \"Olivia\")\n",
    "describe_pet(\"dog\", \"Matilda\")\n",
    "\n",
    "# Using keyword arguments instead.\n",
    "describe_pet(pet_name = 'Marilú', animal_type = 'dog')\n",
    "\n",
    "# Using default values\n",
    "describe_pet(pet_name = 'Teresa') # This way, the order still matters and the order of arguments in the function\n",
    "                                  # definition had to be changed."
   ]
  },
  {
   "cell_type": "code",
   "execution_count": 20,
   "metadata": {},
   "outputs": [
    {
     "name": "stdout",
     "output_type": "stream",
     "text": [
      "\n",
      "The tshirt size is 5, and the message to show is: Carpe Diem.\n",
      "\n",
      "The tshirt size is 10, and the message to show is: Hakuna Matata.\n"
     ]
    }
   ],
   "source": [
    "# Ex. 8-3 T-Shirt: Make a function called 'make_tshirt()' that accepts a size and the text of a message that should be \n",
    "# printed on the shirt.  The function should print a sentence summarizing the size of the shirt and the message printed on it.  \n",
    "\n",
    "def make_tshirt(size, message):\n",
    "    print('\\nThe tshirt size is ' + str(size) + ', and the message to show is: ' + message.title() + '.')\n",
    "    \n",
    "make_tshirt(5, 'carpe diem')\n",
    "make_tshirt(size = 10, message = 'hakuna matata')\n",
    "    \n",
    "    \n"
   ]
  },
  {
   "cell_type": "code",
   "execution_count": 21,
   "metadata": {},
   "outputs": [
    {
     "name": "stdout",
     "output_type": "stream",
     "text": [
      "\n",
      "The tshirt size is large, and the message to show is: I Love Python.\n",
      "\n",
      "The tshirt size is medium, and the message to show is: I Love Python.\n",
      "\n",
      "The tshirt size is large, and the message to show is: Feliz Navidad!.\n"
     ]
    }
   ],
   "source": [
    "# Ex. 8-4 Large shirts: Modify the make_shirt() function so that shirts are large by default, with a message\n",
    "# that reads \"I love Python.\" Make a large shirt and medium shirt\n",
    "# with the default message, and a shirt of any size with a different message.\n",
    "\n",
    "def make_tshirt2(size = 'large' , message = 'I love Python'):\n",
    "    print('\\nThe tshirt size is ' + size + ', and the message to show is: ' + message.title() + '.')\n",
    "    \n",
    "make_tshirt2()\n",
    "make_tshirt2('medium')\n",
    "make_tshirt2(message = 'feliz navidad!')\n"
   ]
  },
  {
   "cell_type": "code",
   "execution_count": 22,
   "metadata": {},
   "outputs": [
    {
     "name": "stdout",
     "output_type": "stream",
     "text": [
      "\n",
      "Huehuetenango is in Guatemala.\n",
      "\n",
      "Atitlán is in Guatemala.\n",
      "\n",
      "Gyeonggi-Do is in Korea.\n"
     ]
    }
   ],
   "source": [
    "# Ex. 8-5 Cieties: Write a function called 'describe_city()' that accepts the name of a city and its country.\n",
    "# The function should print a simple sentence, such as 'Reykjavik is in Iceland'.  Give the parameter for the \n",
    "# country a default value.  Call your functino three different cities, at least one of which is not in the\n",
    "# default country.\n",
    "\n",
    "def describe_city(city, country = 'Guatemala'):\n",
    "    print(\"\\n\" + city.title() + \" is in \" + country.title() + \".\")\n",
    "    \n",
    "describe_city('Huehuetenango')\n",
    "describe_city(city = 'Atitlán')\n",
    "describe_city('Gyeonggi-do', 'Korea')"
   ]
  },
  {
   "cell_type": "code",
   "execution_count": 24,
   "metadata": {},
   "outputs": [
    {
     "name": "stdout",
     "output_type": "stream",
     "text": [
      "Marcos Morales\n"
     ]
    }
   ],
   "source": [
    "# Returning a simple value.\n",
    "\n",
    "def get_formatted_name(first_name, last_name):\n",
    "    # Return a full name, neatly formatted.\n",
    "    full_name = first_name.title() + \" \" + last_name.title()\n",
    "    return full_name\n",
    "\n",
    "musician = get_formatted_name('marcos', 'morales')\n",
    "print(musician)"
   ]
  },
  {
   "cell_type": "code",
   "execution_count": 28,
   "metadata": {},
   "outputs": [
    {
     "name": "stdout",
     "output_type": "stream",
     "text": [
      "Marcos Crisanto Morales\n"
     ]
    }
   ],
   "source": [
    "# Making an argument optional.\n",
    "def get_formatted_name(first_name, last_name, middle_name = ''):\n",
    "    # Return a full name, neatly formatted.\n",
    "    full_name = first_name.title() + \" \" + middle_name.title() + \" \" + last_name.title()\n",
    "    return full_name\n",
    "\n",
    "musician = get_formatted_name('marcos', 'morales', 'crisanto')\n",
    "print(musician)"
   ]
  },
  {
   "cell_type": "code",
   "execution_count": 32,
   "metadata": {},
   "outputs": [
    {
     "name": "stdout",
     "output_type": "stream",
     "text": [
      "[{'first': 'marcos', 'last': 'morales'}, {'first': 'heberth', 'last': 'campos'}]\n"
     ]
    }
   ],
   "source": [
    "# Returning a dictionary\n",
    "def build_person(first_name, last_name):\n",
    "    # Return a dictionary of information about a person.\n",
    "    person = {'first':first_name, 'last':last_name}\n",
    "    return person\n",
    "\n",
    "musicians = []\n",
    "musicians.append(build_person('marcos', 'morales'))\n",
    "musicians.append(build_person('heberth', 'campos'))\n",
    "\n",
    "print(musicians)"
   ]
  },
  {
   "cell_type": "code",
   "execution_count": 34,
   "metadata": {},
   "outputs": [
    {
     "name": "stdout",
     "output_type": "stream",
     "text": [
      "{'first': 'marcos', 'last': 'morales', 'age': 33}\n"
     ]
    }
   ],
   "source": [
    "# Adding optional information in a function returning a dictionary.\n",
    "\n",
    "def build_person(first_name, last_name, age = ''):\n",
    "    # Return a dictionary of information about a person.\n",
    "    person = {'first':first_name, 'last':last_name}\n",
    "    if age:\n",
    "        person['age'] = age\n",
    "    return person\n",
    "\n",
    "musician = build_person('marcos', 'morales', 33)\n",
    "print(musician)"
   ]
  },
  {
   "cell_type": "code",
   "execution_count": 43,
   "metadata": {},
   "outputs": [
    {
     "name": "stdout",
     "output_type": "stream",
     "text": [
      "\n",
      "Pachalun, Guatemala\n",
      "\n",
      "Suwon, Korea\n",
      "\n",
      "Budapest, Hungría\n"
     ]
    }
   ],
   "source": [
    "# Ex. 8-6 City Names: Write a function called city_country() that takes in the name of a city and its country.\n",
    "# The function should return a string formatted.  Call your function with at least three city-country pairs, \n",
    "# and print the value that's returned.\n",
    "\n",
    "def city_country(city, country):\n",
    "    mixed = \"\\n\" + city.title() + \", \" + country.title()\n",
    "    return mixed\n",
    "\n",
    "message1 = city_country(\"Pachalun\", \"Guatemala\")\n",
    "message2 = city_country(\"Suwon\", \"Korea\")\n",
    "message3 = city_country(\"Budapest\", \"Hungría\")\n",
    "\n",
    "print(message1)\n",
    "print(message2)\n",
    "print(message3)\n",
    "\n"
   ]
  },
  {
   "cell_type": "code",
   "execution_count": 48,
   "metadata": {},
   "outputs": [
    {
     "name": "stdout",
     "output_type": "stream",
     "text": [
      "{'artist': 'Jarabe de Palo', 'title': 'De vuelta y vuelta', 'tracks': 5}\n",
      "{'artist': 'Seafret', 'title': 'Oceans', 'tracks': 2}\n",
      "{'artist': 'APC', 'title': 'Eat the elephant'}\n"
     ]
    }
   ],
   "source": [
    "# Ex. 8-7 Album\n",
    "def make_album(artist_name, album_title, track_number = ''):\n",
    "    album = {'artist' : artist_name, 'title' : album_title}\n",
    "    if track_number:\n",
    "        album['tracks'] = track_number\n",
    "    return album\n",
    "\n",
    "album1 = make_album('Jarabe de Palo', 'De vuelta y vuelta', 5)\n",
    "album2 = make_album('Seafret', 'Oceans', 2)\n",
    "album3 = make_album('APC', 'Eat the elephant')\n",
    "\n",
    "print(album1)\n",
    "print(album2)\n",
    "print(album3)"
   ]
  },
  {
   "cell_type": "code",
   "execution_count": 50,
   "metadata": {},
   "outputs": [
    {
     "name": "stdout",
     "output_type": "stream",
     "text": [
      "\n",
      "Give me the name of an artist and her/his album.\n",
      "\n",
      "Enter 'q' at any time to quit.\n",
      "Cuál es el nombre del artista? Jarabe de palo\n",
      "Cuál es el nombre del álbum?q\n"
     ]
    }
   ],
   "source": [
    "# Ex. 8-8 User Albums\n",
    "def make_album(artist_name, album_title, track_number = ''):\n",
    "    album = {'artist' : artist_name, 'title' : album_title}\n",
    "    if track_number:\n",
    "        album['tracks'] = track_number\n",
    "    return album\n",
    "\n",
    "while True:\n",
    "    print(\"\\nGive me the name of an artist and her/his album.\")\n",
    "    print(\"\\nEnter 'q' at any time to quit.\")\n",
    "    \n",
    "    a_name = input(\"Cuál es el nombre del artista? \")\n",
    "    if a_name != 'q':\n",
    "        a_title = input(\"Cuál es el nombre del álbum? \")\n",
    "        if a_title != 'q':\n",
    "            artist_album = make_album(a_name, a_title)\n",
    "            print(artist_album)\n",
    "        else: \n",
    "            break\n",
    "    else:\n",
    "        break\n"
   ]
  },
  {
   "cell_type": "code",
   "execution_count": 52,
   "metadata": {},
   "outputs": [
    {
     "name": "stdout",
     "output_type": "stream",
     "text": [
      "Hello Marcos!\n",
      "Hello Amelia!\n",
      "Hello Olivia!\n"
     ]
    }
   ],
   "source": [
    "# Passing a list as a function parameter\n",
    "def greet_users(users):\n",
    "    for user in users:\n",
    "        print(\"Hello \" + user.title() + \"!\")\n",
    "\n",
    "usernames = ['marcos', 'amelia', 'olivia']\n",
    "greet_users(usernames)\n",
    "\n",
    "    "
   ]
  },
  {
   "cell_type": "code",
   "execution_count": 53,
   "metadata": {},
   "outputs": [
    {
     "name": "stdout",
     "output_type": "stream",
     "text": [
      "Hello Marcos!\n",
      "Hello Amelia!\n",
      "Hello Olivia!\n"
     ]
    }
   ],
   "source": [
    "# Alternative to the above! Applying a function to items in a list, inside a loop.\n",
    "def greet_users(user):\n",
    "    print(\"Hello \" + user.title() + \"!\")\n",
    "\n",
    "usernames = ['marcos', 'amelia', 'olivia']\n",
    "for username in usernames:\n",
    "    greet_users(username)"
   ]
  },
  {
   "cell_type": "code",
   "execution_count": 58,
   "metadata": {},
   "outputs": [
    {
     "name": "stdout",
     "output_type": "stream",
     "text": [
      "The dodecahedron is being printed right now.\n",
      "The robot pendant is being printed right now.\n",
      "The iphone_case is being printed right now.\n",
      "\n",
      "The following items have been printed: \n",
      "Dodecahedron\n",
      "Robot Pendant\n",
      "Iphone_Case\n"
     ]
    }
   ],
   "source": [
    "# Modifying a list inside a function \n",
    "# First without functions\n",
    "# Start with a set of designs that need to be printed.\n",
    "unprinted_designs = ['iphone_case','robot pendant', 'dodecahedron']\n",
    "completed_models = []\n",
    "\n",
    "# Simulate printing each design, until none are left.\n",
    "# Move each design to completed_models after printing.\n",
    "while unprinted_designs:\n",
    "    current_design = unprinted_designs.pop()\n",
    "    print(\"The \" + current_design + \" is being printed right now.\")\n",
    "    \n",
    "    # Moving the already printed model to the completed models array.\n",
    "    completed_models.append(current_design)\n",
    "    \n",
    "# Display all the completed models.\n",
    "print(\"\\nThe following items have been printed: \")\n",
    "for completed_model in completed_models:\n",
    "    print(completed_model.title())\n"
   ]
  },
  {
   "cell_type": "code",
   "execution_count": 60,
   "metadata": {},
   "outputs": [
    {
     "name": "stdout",
     "output_type": "stream",
     "text": [
      "The iphone_case is being printed right now.\n",
      "The robot pendant is being printed right now.\n",
      "The dodecahedron is being printed right now.\n",
      "\n",
      "The following items have been printed: \n",
      "Iphone_Case\n",
      "Robot Pendant\n",
      "Dodecahedron\n"
     ]
    }
   ],
   "source": [
    "# Modifying a list inside a function \n",
    "# Second version with functions\n",
    "\n",
    "def print_designs(designs, models):\n",
    "    for design in designs:\n",
    "        print(\"The \" + design + \" is being printed right now.\")\n",
    "        models.append(design)\n",
    "\n",
    "def display_models(models):\n",
    "    for model in models:\n",
    "        print(model.title())\n",
    "        \n",
    "\n",
    "unprinted_designs = ['iphone_case','robot pendant', 'dodecahedron']\n",
    "completed_models = []\n",
    "\n",
    "print_designs(unprinted_designs, completed_models)\n",
    "print(\"\\nThe following items have been printed: \")\n",
    "display_models(completed_models)\n",
    "\n",
    "\n"
   ]
  },
  {
   "cell_type": "code",
   "execution_count": 64,
   "metadata": {},
   "outputs": [
    {
     "name": "stdout",
     "output_type": "stream",
     "text": [
      "\n",
      "The magician names are: \n",
      "\n",
      "Houdini\n",
      "Sigfrid\n",
      "Roy\n"
     ]
    }
   ],
   "source": [
    "# Ex. 8-9 Magicians.  Make a list of magician's names.  Pass the list to a function called show_magicians(), \n",
    "# which prints the name of each magician in the list.\n",
    "\n",
    "def show_magicians(names):\n",
    "    for name in names:\n",
    "        print(name.title())\n",
    "        \n",
    "magician_names = ['houdini', 'sigfrid', 'roy']\n",
    "print(\"\\nThe magician names are: \\n\")\n",
    "show_magicians(magician_names)"
   ]
  },
  {
   "cell_type": "code",
   "execution_count": 68,
   "metadata": {},
   "outputs": [
    {
     "name": "stdout",
     "output_type": "stream",
     "text": [
      "\n",
      "The magician names are: \n",
      "\n",
      "Houdini, the Great!\n",
      "Sigfrid, the Great!\n",
      "Roy, the Great!\n"
     ]
    }
   ],
   "source": [
    "# Ex. 8-10 Great magicians\n",
    "# Start with a copy of 8-9.\n",
    "# Write make_great() function that modifies the list of magicians by adding the phrase 'The Great' to each\n",
    "# magician name.  Call show_magicians() to see that the list has actually been modified.\n",
    "\n",
    "def show_magicians(names):\n",
    "    length = len(names)\n",
    "    n = 0\n",
    "    while n < length:\n",
    "        for name in names:\n",
    "            name = name.title() + \", the Great!\"\n",
    "            names[n] = name\n",
    "            n = n+1\n",
    "            print(name)\n",
    "        \n",
    "magician_names = ['houdini', 'sigfrid', 'roy']\n",
    "print(\"\\nThe magician names are: \\n\")\n",
    "show_magicians(magician_names)"
   ]
  },
  {
   "cell_type": "code",
   "execution_count": 70,
   "metadata": {},
   "outputs": [
    {
     "name": "stdout",
     "output_type": "stream",
     "text": [
      "\n",
      "The magician names are: \n",
      "\n",
      "houdini\n",
      "sigfrid\n",
      "roy\n",
      "\n",
      "The great magician names are: \n",
      "\n",
      "Houdini, the Great!\n",
      "Sigfrid, the Great!\n",
      "Roy, the Great!\n"
     ]
    }
   ],
   "source": [
    "# Ex. 8-1  Unchanged magicians.  Call the function make_great() with a copy of the list of magician's names.  \n",
    "# Because the orginal list will be unchanged, return the new list and store it in a separate list.\n",
    "# Call show_magicians() with each list to show that you have one list of the original names and one list with\n",
    "# The great added to each magician's name.\n",
    "\n",
    "def make_great(names):\n",
    "    length = len(names)\n",
    "    n = 0\n",
    "    while n < length:\n",
    "        for name in names:\n",
    "            name = name.title() + \", the Great!\"\n",
    "            names[n] = name\n",
    "            n = n+1\n",
    "    return names\n",
    "\n",
    "def show_magicians(names):\n",
    "    for name in names:\n",
    "        print(name)\n",
    "\n",
    "magician_names = ['houdini', 'sigfrid', 'roy']\n",
    "great_magician_names = make_great(magician_names[:])\n",
    "\n",
    "print(\"\\nThe magician names are: \\n\")\n",
    "show_magicians(magician_names)\n",
    "\n",
    "print(\"\\nThe great magician names are: \\n\")\n",
    "show_magicians(great_magician_names)"
   ]
  },
  {
   "cell_type": "code",
   "execution_count": 73,
   "metadata": {},
   "outputs": [
    {
     "name": "stdout",
     "output_type": "stream",
     "text": [
      "\n",
      "Making pizza with the following toppings: \n",
      "Pepperoni\n",
      "\n",
      "Making pizza with the following toppings: \n",
      "Pepperoni\n",
      "Green Peppers\n",
      "Extra Cheese\n"
     ]
    }
   ],
   "source": [
    "# Passing an arbitrary number of arguments\n",
    "def make_pizza(*toppings):\n",
    "    print(\"\\nMaking pizza with the following toppings: \")\n",
    "    for topping in toppings:\n",
    "        print(topping.title())\n",
    "    \n",
    "make_pizza('pepperoni')\n",
    "make_pizza('pepperoni', 'green peppers', 'extra cheese')\n"
   ]
  },
  {
   "cell_type": "code",
   "execution_count": 74,
   "metadata": {},
   "outputs": [
    {
     "name": "stdout",
     "output_type": "stream",
     "text": [
      "{'first_name': 'albert', 'last_name': 'einstein', 'location': 'princeton', 'field': 'physics'}\n"
     ]
    }
   ],
   "source": [
    "# Making positional and arbitrary arguments\n",
    "def build_profile(first, last, **user_info):\n",
    "    profile = {}\n",
    "    profile['first_name'] = first\n",
    "    profile['last_name'] = last\n",
    "    for key, value in user_info.items():\n",
    "        profile[key] = value\n",
    "    return profile\n",
    "\n",
    "user_profile = build_profile('albert', 'einstein',\n",
    "                            location = 'princeton',\n",
    "                            field = 'physics')\n",
    "\n",
    "print(user_profile)"
   ]
  },
  {
   "cell_type": "code",
   "execution_count": 76,
   "metadata": {},
   "outputs": [
    {
     "name": "stdout",
     "output_type": "stream",
     "text": [
      "\n",
      "Your sandwich will have the following ingredients: \n",
      "Tomato\n",
      "Lettuce\n",
      "Ketchup\n",
      "Onion\n"
     ]
    }
   ],
   "source": [
    "# Ex. 8-12 Sandwiches\n",
    "def prepare_sandwich(*ingredients):\n",
    "    if len(ingredients) >= 0:\n",
    "        print(\"\\nYour sandwich will have the following ingredients: \")\n",
    "        for ingredient in ingredients:\n",
    "            print(ingredient.title())\n",
    "            \n",
    "prepare_sandwich('tomato', 'lettuce', 'ketchup', 'onion')"
   ]
  },
  {
   "cell_type": "code",
   "execution_count": 78,
   "metadata": {},
   "outputs": [
    {
     "name": "stdout",
     "output_type": "stream",
     "text": [
      "{'first_name': 'Sol', 'last_name': 'Giron', 'location': 'Guatemala', 'field': 'Biomedical Engineering', 'project': 'Kaleidoscopios'}\n"
     ]
    }
   ],
   "source": [
    "# Ex. 8-13 User profile\n",
    "# Making positional and arbitrary arguments\n",
    "def build_profile(first, last, **user_info):\n",
    "    profile = {}\n",
    "    profile['first_name'] = first.title()\n",
    "    profile['last_name'] = last.title()\n",
    "    for key, value in user_info.items():\n",
    "        profile[key] = value.title()\n",
    "    return profile\n",
    "\n",
    "user_profile = build_profile('sol', 'giron',\n",
    "                            location = 'guatemala',\n",
    "                            field = 'biomedical engineering',\n",
    "                            project = 'kaleidoscopios')\n",
    "\n",
    "print(user_profile)"
   ]
  },
  {
   "cell_type": "code",
   "execution_count": 82,
   "metadata": {},
   "outputs": [
    {
     "name": "stdout",
     "output_type": "stream",
     "text": [
      "{'manufacturer_name': 'Nissan', 'model_name': 'Almera', 'color': 'Red', 'year': '2004'}\n"
     ]
    }
   ],
   "source": [
    "# Ex. 8-14 Cars --> Write a function that stores information about a car in a dictionary.  The function should\n",
    "# always receive a manufacturer and a model name.  It should then accept an arbitrary number of keyword arguments.\n",
    "# Call the function with the required information and two other name - value pairs, such as a color or an optional\n",
    "# feature.  Your function should work for a call like this one:\n",
    "\n",
    "def make_car(manufacturer, model, **other):\n",
    "    car = {}\n",
    "    car['manufacturer_name'] = manufacturer.title()\n",
    "    car['model_name'] = model.title()\n",
    "    for key, value in other.items():\n",
    "        car[key] = value.title()\n",
    "    return car\n",
    "\n",
    "car1 = make_car('nissan', 'almera', \n",
    "               color = 'red',\n",
    "               year = '2004')\n",
    "print(car1)"
   ]
  },
  {
   "cell_type": "code",
   "execution_count": null,
   "metadata": {},
   "outputs": [],
   "source": [
    "# Storing your functions in modules"
   ]
  }
 ],
 "metadata": {
  "kernelspec": {
   "display_name": "Python 3",
   "language": "python",
   "name": "python3"
  },
  "language_info": {
   "codemirror_mode": {
    "name": "ipython",
    "version": 3
   },
   "file_extension": ".py",
   "mimetype": "text/x-python",
   "name": "python",
   "nbconvert_exporter": "python",
   "pygments_lexer": "ipython3",
   "version": "3.7.0"
  }
 },
 "nbformat": 4,
 "nbformat_minor": 2
}
