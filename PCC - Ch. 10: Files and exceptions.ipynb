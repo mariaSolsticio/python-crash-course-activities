{
 "cells": [
  {
   "cell_type": "code",
   "execution_count": null,
   "metadata": {
    "scrolled": true
   },
   "outputs": [],
   "source": [
    "# Opening a text file stored in the same directory.\n",
    "\n",
    "with open('pi_digits.txt') as file_object:\n",
    "    contents = file_object.read()\n",
    "    print(contents.rstrip())"
   ]
  },
  {
   "cell_type": "code",
   "execution_count": null,
   "metadata": {},
   "outputs": [],
   "source": [
    "# Reading a file, line by line\n",
    "\n",
    "filename = 'pi_digits.txt'\n",
    "\n",
    "with open(filename) as file_object:\n",
    "    for line in file_object:\n",
    "        print(line.rstrip())"
   ]
  },
  {
   "cell_type": "code",
   "execution_count": null,
   "metadata": {},
   "outputs": [],
   "source": [
    "# Making a list of lines from a file\n",
    "filename = 'pi_digits.txt'\n",
    "\n",
    "pi = ''\n",
    "\n",
    "with open(filename) as file_object:\n",
    "    lines = file_object.readlines()\n",
    "    \n",
    "    for line in lines:\n",
    "        pi += line.strip()\n",
    "        \n",
    "print(pi)\n",
    "print(len(pi))"
   ]
  },
  {
   "cell_type": "code",
   "execution_count": null,
   "metadata": {},
   "outputs": [],
   "source": [
    "# Working with a File's Contents - Large files\n",
    "filename = 'pi_million_digits.txt'\n",
    "\n",
    "pi = ''\n",
    "\n",
    "with open(filename) as file_object:\n",
    "    lines = file_object.readlines()\n",
    "    \n",
    "for line in lines:\n",
    "    pi += line.strip()\n",
    "        \n",
    "birthday = input(\"When is your birthday? Provide it in the format 'ddmmyy': \")\n",
    "position = pi.find(birthday)\n",
    "if birthday in pi:\n",
    "    print(\"\\nYour birthday is inside the number pi!\")\n",
    "    print(\"You can find it in the position no.: \" + str(position))\n",
    "else: \n",
    "    print(\"\\nSorry, I couldn't find your birthday inside pi!\")\n",
    "        \n",
    "print(pi[:52] + \"...\")\n",
    "print(len(pi))"
   ]
  },
  {
   "cell_type": "code",
   "execution_count": null,
   "metadata": {},
   "outputs": [],
   "source": [
    "# Ex 10-1 Learning Python\n",
    "file = \"learning_python.txt\"\n",
    "\n",
    "with open(file) as file_object:\n",
    "    lines = file_object.readlines()\n",
    "    # Printing the first time, print the whole file\n",
    "    print(lines)\n",
    "\n",
    "\n",
    "# Printing the second time, print line by line looping through it.\n",
    "with open(file) as file_object:\n",
    "    lines = file_object.readlines()\n",
    "    print(\"\\n\")\n",
    "    for line in lines:\n",
    "        print(line.strip())\n",
    "\n",
    "# Printing the third time, after storing it in a list and working with it outside.\n",
    "with open(file) as file_object:\n",
    "    lines = file_object.readlines()\n",
    "\n",
    "learning = ''\n",
    "for line in lines:\n",
    "    learning += line\n",
    "print(\"\\n\" + learning)\n",
    "    \n"
   ]
  },
  {
   "cell_type": "code",
   "execution_count": null,
   "metadata": {},
   "outputs": [],
   "source": [
    "file = 'learning_python.txt'\n",
    "\n",
    "with open(file) as file_object:\n",
    "    lines = file_object.readlines()\n",
    "    for line in lines:\n",
    "        new_line = line.replace('Python', 'VBA')\n",
    "        print(new_line)"
   ]
  },
  {
   "cell_type": "code",
   "execution_count": null,
   "metadata": {},
   "outputs": [],
   "source": [
    "filename = 'programming.txt'\n",
    "\n",
    "with open(filename, 'w') as file_object:\n",
    "    file_object.write(\"I love programming.\\n\")\n",
    "    file_object.write(\"I love creating new games.\\n\")"
   ]
  },
  {
   "cell_type": "code",
   "execution_count": null,
   "metadata": {},
   "outputs": [],
   "source": [
    "# Appending to a file\n",
    "filename = 'programming.txt'\n",
    "\n",
    "with open(filename, 'a') as file_object:\n",
    "    file_object.write(\"I also love finding meaning in large datasets.\\n\")\n",
    "    file_object.write(\"I love creating apps that can run in a browser\\n\")"
   ]
  },
  {
   "cell_type": "code",
   "execution_count": null,
   "metadata": {},
   "outputs": [],
   "source": [
    "# Ex 10-3: Prompt the user for their name.  Write their name to a file called guest.txt.\n",
    "\n",
    "filename = \"guest.txt\"\n",
    "nombre = input(\"What is your name? \")\n",
    "\n",
    "with open(filename, 'a') as file_object:\n",
    "    file_object.write('hola')"
   ]
  },
  {
   "cell_type": "code",
   "execution_count": null,
   "metadata": {},
   "outputs": [],
   "source": [
    "birthday = input(\"When is your birthday? Provide it in the format 'ddmmyy': \")"
   ]
  },
  {
   "cell_type": "code",
   "execution_count": null,
   "metadata": {},
   "outputs": [],
   "source": [
    "try:\n",
    "    print(5/0)\n",
    "except ZeroDivisionError: \n",
    "    print(\"You can't divide by zero!\")"
   ]
  },
  {
   "cell_type": "code",
   "execution_count": null,
   "metadata": {},
   "outputs": [],
   "source": [
    "# Exception handling when I have user input.\n",
    "print(\"Give me two numbers, I'll divide them.\")\n",
    "print(\"Enter 'q' to quit.\")\n",
    "\n",
    "flag = True\n",
    "while flag == True:\n",
    "\n",
    "    flag_1 = True\n",
    "    while flag_1 == True:\n",
    "        # Trying to handle type errors.\n",
    "        first_number = input(\"\\nFirst number: \")\n",
    "        if first_number == 'q':\n",
    "            flag = False\n",
    "            flag_1 = False\n",
    "        else:\n",
    "            try:\n",
    "                first_number = int(first_number)\n",
    "            except ValueError:\n",
    "                print(\"You must provide a valid number, try again.\")\n",
    "            else:\n",
    "                flag_1 = False\n",
    "    \n",
    "    flag_2 = True\n",
    "    while flag_2 == True:\n",
    "        # Trying to handle type errors.\n",
    "        second_number = input(\"\\nSecond number: \")\n",
    "        if second_number == 'q':\n",
    "            flag = False\n",
    "            flag_2 = False\n",
    "        else:\n",
    "            try:\n",
    "                second_number = int(second_number)\n",
    "            except ValueError:\n",
    "                print(\"You must provide a valid number, try again.\")\n",
    "            else:\n",
    "                flag_2 = False\n",
    "    \n",
    "    answer = first_number/second_number    \n",
    "    # Handling the division by zero escenario.\n",
    "    #try:\n",
    "    #    answer = first_number/second_number\n",
    "    #except ZeroDivisionError:\n",
    "    #    print(\"You cannot divide by zero.\")\n",
    "    #else:\n",
    "    #    print(answer)"
   ]
  },
  {
   "cell_type": "code",
   "execution_count": null,
   "metadata": {},
   "outputs": [],
   "source": [
    "filename = 'alice.txt'\n",
    "\n",
    "try:\n",
    "    with open(filename, encoding = 'utf-8') as f_obj:\n",
    "        contents = f_obj.read()\n",
    "except FileNotFoundError:\n",
    "    print(\"Cannot find the described file.\")\n"
   ]
  },
  {
   "cell_type": "code",
   "execution_count": null,
   "metadata": {},
   "outputs": [],
   "source": [
    "filename = 'alice.txt'\n",
    "\n",
    "try:\n",
    "    with open(filename, encoding = 'utf-8') as f_obj:\n",
    "        contents = f_obj.read()\n",
    "except FileNotFoundError:\n",
    "    print(\"Cannot find the described file.\")\n",
    "else:\n",
    "    words = contents.split()\n",
    "    print(len(words))\n",
    "\n",
    "    "
   ]
  },
  {
   "cell_type": "code",
   "execution_count": null,
   "metadata": {},
   "outputs": [],
   "source": [
    "def count_words(filename):\n",
    "    \"\"\"Count the approximate number of words in a file.\"\"\"\n",
    "\n",
    "    try:\n",
    "        with open(filename, encoding = 'utf-8') as f_obj:\n",
    "            contents = f_obj.read()\n",
    "    except FileNotFoundError:\n",
    "        print(\"Cannot find the described file.\")\n",
    "    else:\n",
    "        word_count = contents.split()\n",
    "        num_words = len(word_count)\n",
    "        print(\"The file has \" + str(num_words) + \" words.\")\n",
    "\n",
    "filename = 'alice.txt'\n",
    "count_words(filename)"
   ]
  },
  {
   "cell_type": "code",
   "execution_count": null,
   "metadata": {},
   "outputs": [],
   "source": [
    "# Ex. 10-6 Addition\n",
    "# ValueError when I am expecting a number but get an integer instead.\n",
    "\n",
    "# Get two numbers from the user.\n",
    "\n",
    "flag_1 = True\n",
    "while flag_1 == True:\n",
    "    number_1 = input(\"Please, provide a number: \")\n",
    "    try:\n",
    "        number_1 = int(number_1)\n",
    "    except ValueError:\n",
    "        print(\"It must be a number!\")\n",
    "    else:\n",
    "        flag_1 = False\n",
    "\n",
    "flag_2 = True\n",
    "while flag_2 == True:\n",
    "    number_2 = input(\"Now, give us another number: \")\n",
    "    try:\n",
    "        number_2 = int(number_2)\n",
    "    except ValueError:\n",
    "        print(\"It must be a number!\")\n",
    "    else:\n",
    "        flag_2 = False\n",
    "\n",
    "suma = number_1 + number_2\n",
    "print(suma)"
   ]
  },
  {
   "cell_type": "code",
   "execution_count": null,
   "metadata": {},
   "outputs": [],
   "source": [
    "# Ex. 10-8 Cats and Dogs\n",
    "\n",
    "def read_files(filename):\n",
    "    try:\n",
    "        with open(filename) as f_obj:\n",
    "            content = f_obj.read()\n",
    "    except FileNotFoundError:\n",
    "        print(\"The file \" + filename + \", couldn't be found.\")\n",
    "    else:\n",
    "        print(content)\n",
    "        \n",
    "files = ['cats.txt', 'dogs.txt', 'parrots.txt']\n",
    "for file in files:\n",
    "    read_files(file)\n",
    "    "
   ]
  },
  {
   "cell_type": "code",
   "execution_count": null,
   "metadata": {},
   "outputs": [],
   "source": [
    "# Ex. 10-9 Use the above example to fail silently.\n",
    "\n",
    "def read_files(filename):\n",
    "    try:\n",
    "        with open(filename) as f_obj:\n",
    "            content = f_obj.read()\n",
    "    except FileNotFoundError:\n",
    "        pass\n",
    "    else:\n",
    "        print(content)\n",
    "        \n",
    "files = ['cats.txt', 'dogs.txt', 'parrots.txt']\n",
    "for file in files:\n",
    "    read_files(file)"
   ]
  },
  {
   "cell_type": "code",
   "execution_count": null,
   "metadata": {},
   "outputs": [],
   "source": [
    "# Ex. 10-10, Common Words\n",
    "# Use the count() method to find how many times a word or phrase appears in a string.  \n",
    "\n",
    "# Example\n",
    "#line = \"Row, row, row your boat\"\n",
    "#line.lower().count(\"row\")\n",
    "\n",
    "# The real thing.\n",
    "\n",
    "filename = 'alice.txt'\n",
    "\n",
    "with open(filename, encoding = 'utf-8') as f_obj:\n",
    "    content = f_obj.read()\n",
    "    no_appear = content.lower().count('the')\n",
    "    print(no_appear)\n",
    "    "
   ]
  },
  {
   "cell_type": "code",
   "execution_count": null,
   "metadata": {},
   "outputs": [],
   "source": [
    "# Writing information to a JSON file\n",
    "import json\n",
    "\n",
    "strings = \"hola hola hola\"\n",
    "\n",
    "filename = 'strings.json'\n",
    "with open(filename, 'w') as f_obj:\n",
    "    json.dump(strings, f_obj)"
   ]
  },
  {
   "cell_type": "code",
   "execution_count": null,
   "metadata": {},
   "outputs": [],
   "source": [
    "# Retrieving information from a JSON file\n",
    "\n",
    "import json\n",
    "\n",
    "filename = 'strings.json'\n",
    "with open(filename, 'r') as f_obj:\n",
    "    strings = json.load(f_obj)\n",
    "\n",
    "print(strings)"
   ]
  },
  {
   "cell_type": "code",
   "execution_count": null,
   "metadata": {},
   "outputs": [],
   "source": [
    "import json\n",
    "\n",
    "# Dictionary to hold user information.\n",
    "users = {}\n",
    "# File to store all the user related information.\n",
    "filename = 'user.json'\n",
    "\n",
    "user_name = input(\"Please, give me your name: \")\n",
    "users = {'Name':user_name}\n",
    "print(len(users))\n",
    "\n",
    "with open(filename, 'w') as f_obj:\n",
    "    json.dump(users, f_obj)\n",
    "    print(\"We'll remember you when you come back.\")\n"
   ]
  },
  {
   "cell_type": "code",
   "execution_count": null,
   "metadata": {},
   "outputs": [],
   "source": [
    "# Starting a program remembering the just logged in user information.\n",
    "import json\n",
    "\n",
    "filename = 'user.json'\n",
    "\n",
    "with open(filename) as f_obj:\n",
    "    username = json.load(f_obj)\n",
    "    print(username)\n",
    "    # Check out first what kind of variables you will be getting!"
   ]
  },
  {
   "cell_type": "code",
   "execution_count": null,
   "metadata": {},
   "outputs": [],
   "source": [
    "# Combining the programs that store and retrieve user related information.\n",
    "import json\n",
    "\n",
    "# Load the username, if it has been stored previously.\n",
    "# Otherwise, prompt for the username and store it.\n",
    "filename = 'username.json'\n",
    "\n",
    "try:\n",
    "    with open(filename) as f_obj:\n",
    "        username = json.load(f_obj)\n",
    "except FileNotFoundError:\n",
    "    username = input(\"What is your name? \")\n",
    "    with open(filename, 'w') as f_obj:\n",
    "        json.dump(username, f_obj)\n",
    "        print(\"We will remember you when you come back, \" + username + \"!\")\n",
    "else:\n",
    "    print(\"Welcome back, \" + username + \"!\")"
   ]
  },
  {
   "cell_type": "code",
   "execution_count": null,
   "metadata": {},
   "outputs": [],
   "source": [
    "import json\n",
    "help(json)"
   ]
  },
  {
   "cell_type": "code",
   "execution_count": 36,
   "metadata": {},
   "outputs": [
    {
     "name": "stdout",
     "output_type": "stream",
     "text": [
      "Welcome back, Sol!\n"
     ]
    },
    {
     "data": {
      "text/plain": [
       "'Greet user by name.'"
      ]
     },
     "execution_count": 36,
     "metadata": {},
     "output_type": "execute_result"
    }
   ],
   "source": [
    "import json\n",
    "\n",
    "def greet_user(filename):\n",
    "    \"\"\"Greet user by name.\"\"\"\n",
    "    try:\n",
    "        with open(filename) as f_obj:\n",
    "            username = json.load(f_obj)\n",
    "    except FileNotFoundError:\n",
    "        username = input(\"What is your name? \")\n",
    "        with open(filename, 'w') as f_obj:\n",
    "            json.dump(username, f_obj)\n",
    "            print(\"We will remember you when you come back, \" + username + \"!\")\n",
    "    else:\n",
    "        print(\"Welcome back, \" + username + \"!\")\n",
    "        \n",
    "filename = 'username.json'\n",
    "greet_user(filename)\n",
    "greet_user.__doc__"
   ]
  },
  {
   "cell_type": "code",
   "execution_count": 38,
   "metadata": {},
   "outputs": [
    {
     "name": "stdout",
     "output_type": "stream",
     "text": [
      "Welcome back Sol!\n"
     ]
    }
   ],
   "source": [
    "# Separating the above into two different functions.\n",
    "\n",
    "def get_stored_name(filename):\n",
    "    \"\"\"Check if there is a stored name already.\"\"\"\n",
    "    \n",
    "    try:\n",
    "        with open(filename) as f_obj:\n",
    "            username = json.load(f_obj)\n",
    "    except FileNotFoundError:\n",
    "        return None\n",
    "    else:\n",
    "        return username\n",
    "\n",
    "def store_username(filename):\n",
    "    \"\"\"Store a username if there is no one registered.\"\"\"\n",
    "    \n",
    "    username = input(\"Please, give me your name: \")\n",
    "    \n",
    "    with open(filename, 'w') as f_obj:\n",
    "        json.dump(username, f_obj)\n",
    "        print(\"Thank you \" + username + \", your name is now saved.\")\n",
    "\n",
    "filename = 'usuarios.json'\n",
    "is_stored = get_stored_name(filename)\n",
    "if is_stored == None:\n",
    "    store_username(filename)\n",
    "else:\n",
    "    print(\"Welcome back \" + username + \"!\")\n",
    "        \n",
    "        \n",
    "        "
   ]
  },
  {
   "cell_type": "code",
   "execution_count": null,
   "metadata": {},
   "outputs": [],
   "source": [
    "# Ex. 10-11 Favorite number\n"
   ]
  }
 ],
 "metadata": {
  "kernelspec": {
   "display_name": "Python 3",
   "language": "python",
   "name": "python3"
  },
  "language_info": {
   "codemirror_mode": {
    "name": "ipython",
    "version": 3
   },
   "file_extension": ".py",
   "mimetype": "text/x-python",
   "name": "python",
   "nbconvert_exporter": "python",
   "pygments_lexer": "ipython3",
   "version": "3.6.6"
  }
 },
 "nbformat": 4,
 "nbformat_minor": 2
}
