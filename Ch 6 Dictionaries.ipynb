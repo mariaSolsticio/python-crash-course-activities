{
 "cells": [
  {
   "cell_type": "code",
   "execution_count": 1,
   "metadata": {},
   "outputs": [
    {
     "name": "stdout",
     "output_type": "stream",
     "text": [
      "green\n",
      "{'color': 'green', 'points': 5, 'speed': 'slow', 'x_position': 0, 'y_position': 25}\n"
     ]
    }
   ],
   "source": [
    "alien_0={'color':'green', 'points':5, 'speed':'slow'}\n",
    "print(alien_0['color'])\n",
    "\n",
    "alien_0['x_position']= 0\n",
    "alien_0['y_position'] = 25\n",
    "\n",
    "print(alien_0)"
   ]
  },
  {
   "cell_type": "code",
   "execution_count": null,
   "metadata": {},
   "outputs": [],
   "source": [
    "# Move the alien to the right.\n",
    "# Determine how far to move the alien based on its current speed.\n",
    "\n",
    "if alien_0['speed'] == 'slow':\n",
    "    x_increment = 1\n",
    "if alien_0['speed'] == 'medium':\n",
    "    x_increment = 2\n",
    "else:\n",
    "    # This must be a fast alien.\n",
    "    x_increment = 3\n",
    "    \n",
    "# New alien position\n",
    "alien_0['x_position'] = alien_0['x_position'] + x_increment\n",
    "\n",
    "# Print it out\n",
    "print(alien_0)\n",
    "\n",
    "# Make it fast\n",
    "alien_0['speed'] = 'fast'"
   ]
  },
  {
   "cell_type": "code",
   "execution_count": null,
   "metadata": {},
   "outputs": [],
   "source": [
    "# Ex 6-1\n",
    "\n",
    "marcosc = {'first_name':'marcos','last_name':'morales', 'age': 33, 'city':'guatemala'}\n",
    "print(marcosc)\n",
    "\n",
    "for marcoc in marcosc:\n",
    "    print(marcosc[marcoc])"
   ]
  },
  {
   "cell_type": "code",
   "execution_count": null,
   "metadata": {},
   "outputs": [],
   "source": [
    "# Ex 6-2\n",
    "# Favorite numbers\n",
    "\n",
    "fav_numbers = {'jenny':1, 'maria':2, 'mar':3, 'michy': 4}\n",
    "\n",
    "for fav_number in fav_numbers:\n",
    "    print('El número favorito de ' + fav_number + ' es el ' + str(fav_numbers[fav_number]) + '.')"
   ]
  },
  {
   "cell_type": "code",
   "execution_count": null,
   "metadata": {},
   "outputs": [],
   "source": [
    "# Ex 6-3\n",
    "# Glosario\n",
    "glosario = {\n",
    "    'conda': 'Manejador de paquetes.',\n",
    "    'diccionario':'Compendio de llaves y valores',\n",
    "    'comprenhensions':'Forma particular de hacer bucles.',\n",
    "    'rango':'función de valores numéricos',\n",
    "    'lista':'vector de ítems del mismo tipo'\n",
    "}\n",
    "\n",
    "# Imprimiendo mi glosario\n",
    "\n",
    "for palabra in glosario:\n",
    "    print(\"\\n\"+ palabra.title() + \": \" + \"\\n\\t\" + glosario[palabra].title())\n",
    "    "
   ]
  },
  {
   "cell_type": "code",
   "execution_count": null,
   "metadata": {},
   "outputs": [],
   "source": [
    "# Looping through a dictionary.\n",
    "user_0 = {\n",
    "    'username':'efermi',\n",
    "    'first':'enrico',\n",
    "    'last':'fermi'\n",
    "}\n",
    "\n",
    "for k, v in user_0.items():\n",
    "    print(k)\n",
    "    print(v)"
   ]
  },
  {
   "cell_type": "code",
   "execution_count": null,
   "metadata": {},
   "outputs": [],
   "source": [
    "# Another looping example.\n",
    "\n",
    "favorite_languages = {\n",
    "    'jen':'python',\n",
    "    'sarah':'c',\n",
    "    'edward':'ruby',\n",
    "    'phil':'python'\n",
    "}\n",
    "\n",
    "friends = ['phil', 'sarah']\n",
    "for name in favorite_languages.keys():\n",
    "    print(name.title())\n",
    "    \n",
    "    if name in friends:\n",
    "        print(\"Hi \"+ name.title() +\n",
    "             \", I see your favorite language is \"+ \n",
    "              favorite_languages[name].title() + \"!\"\n",
    "             )"
   ]
  },
  {
   "cell_type": "code",
   "execution_count": 42,
   "metadata": {},
   "outputs": [
    {
     "name": "stdout",
     "output_type": "stream",
     "text": [
      "El río Usumacinta corre a través de Guatemala.\n",
      "El río Nilo corre a través de Egipto.\n",
      "El río Ganges corre a través de India.\n",
      "\n",
      "\n",
      "\n",
      "El rio Usumacinta corre a través de guatemala.\n",
      "El rio Nilo corre a través de egipto.\n",
      "El rio Ganges corre a través de india.\n"
     ]
    }
   ],
   "source": [
    "# Ex 6-5 Rivers\n",
    "rios = {'usumacinta':'guatemala', 'nilo':'egipto', 'ganges':'india'}\n",
    "\n",
    "for rio, pais in rios.items():\n",
    "    print(\"El río \"+ rio.title() + \" corre a través de \" + pais.title() + \".\")\n",
    "    \n",
    "print(\"\\n\\n\")\n",
    "\n",
    "for rio in rios:\n",
    "    print(\"El rio \" + rio.title() + \" corre a través de \" + rios[rio] + \".\")\n"
   ]
  },
  {
   "cell_type": "code",
   "execution_count": 49,
   "metadata": {},
   "outputs": [
    {
     "name": "stdout",
     "output_type": "stream",
     "text": [
      "Please Jenny, can you take the poll?\n",
      "Please Pablo, can you take the poll?\n",
      "Please Christian, can you take the poll?\n",
      "Please Ottoniel, can you take the poll?\n",
      "Thanks Jen for taking the poll!  Your favorite language is Python.\n",
      "Thanks Sarah for taking the poll!  Your favorite language is C.\n",
      "Thanks Edward for taking the poll!  Your favorite language is Ruby.\n",
      "edward: ruby\n",
      "jen: python\n",
      "phil: python\n",
      "sarah: c\n"
     ]
    }
   ],
   "source": [
    "# Ex 6-6 Polling\n",
    "favorite_languages = {\n",
    "    'jen':'python',\n",
    "    'sarah':'c',\n",
    "    'edward':'ruby',\n",
    "    'phil':'python'\n",
    "}\n",
    "\n",
    "people = ['jenny', 'pablo', 'christian', 'ottoniel', 'jen', 'sarah', 'edward']\n",
    "\n",
    "for person in people:\n",
    "    if person in favorite_languages.keys():\n",
    "        print(\"Thanks \" + person.title() + \n",
    "              \" for taking the poll!  Your favorite language is \" + favorite_languages[person].title() + \".\")\n",
    "    elif person not in favorite_languages.keys():\n",
    "        print(\"Please \"+ person.title() + \", can you take the poll?\")\n",
    "        \n",
    "for name in sorted(favorite_languages.keys()):\n",
    "    lang = favorite_languages[name]\n",
    "    print(name + \": \" + lang)\n",
    "            "
   ]
  },
  {
   "cell_type": "code",
   "execution_count": 50,
   "metadata": {},
   "outputs": [
    {
     "name": "stdout",
     "output_type": "stream",
     "text": [
      "{'color': 'green', 'points': 5}\n",
      "{'color': 'yellow', 'points': 10}\n",
      "{'color': 'red', 'points': 15}\n"
     ]
    }
   ],
   "source": [
    "# Nesting\n",
    "alien_0 = {'color':'green', 'points': 5}\n",
    "alien_1 = {'color':'yellow', 'points': 10}\n",
    "alien_2 = {'color':'red', 'points': 15}\n",
    "\n",
    "aliens = [alien_0, alien_1, alien_2]\n",
    "\n",
    "for alien in aliens:\n",
    "    print(alien)"
   ]
  },
  {
   "cell_type": "code",
   "execution_count": 55,
   "metadata": {},
   "outputs": [
    {
     "name": "stdout",
     "output_type": "stream",
     "text": [
      "{'color': 'green', 'points': 5, 'speed': 'slow'}\n",
      "...\n",
      "{'color': 'green', 'points': 5, 'speed': 'slow'}\n",
      "...\n",
      "{'color': 'green', 'points': 5, 'speed': 'slow'}\n",
      "...\n",
      "{'color': 'green', 'points': 5, 'speed': 'slow'}\n",
      "...\n",
      "{'color': 'green', 'points': 5, 'speed': 'slow'}\n",
      "...\n",
      "En total se crearon 30 aliens.\n",
      "{'color': 'yellow', 'points': 10, 'speed': 'medium'}\n",
      "{'color': 'yellow', 'points': 10, 'speed': 'medium'}\n",
      "{'color': 'yellow', 'points': 10, 'speed': 'medium'}\n",
      "{'color': 'green', 'points': 5, 'speed': 'slow'}\n",
      "{'color': 'green', 'points': 5, 'speed': 'slow'}\n"
     ]
    }
   ],
   "source": [
    "# Make an empty list for storing aliens.\n",
    "\n",
    "aliens = []\n",
    "\n",
    "# Make 30 green aliens. From 0 to 29.\n",
    "for alien_number in range(30):\n",
    "    new_alien = {'color' : 'green', 'points': 5, 'speed': 'slow'}\n",
    "    aliens.append(new_alien)\n",
    "    \n",
    "# Show the first 5 aliens.\n",
    "for alien in aliens[:5]:\n",
    "    print(alien)\n",
    "    print(\"...\")\n",
    "\n",
    "# Show how many aliens have been created.\n",
    "print(\"En total se crearon \" + str(len(aliens)) + \" aliens.\")\n",
    "\n",
    "# Change de color of the first three aliens\n",
    "for alien in aliens[0:3]:\n",
    "    if alien['color']=='green':\n",
    "        alien['color'] = 'yellow'\n",
    "        alien['points'] = 10\n",
    "        alien['speed'] = 'medium'\n",
    "\n",
    "# Print the first five items.\n",
    "\n",
    "for alien in aliens[:5]:\n",
    "    print(alien)"
   ]
  },
  {
   "cell_type": "code",
   "execution_count": 61,
   "metadata": {},
   "outputs": [
    {
     "name": "stdout",
     "output_type": "stream",
     "text": [
      "You ordered a thick-crust pizza with the following toppings: mushrooms, extra cheese.\n",
      "\tmushrooms\n",
      "\textra cheese\n"
     ]
    }
   ],
   "source": [
    "# A list in a dictionary\n",
    "# Store information about a pizza being ordered.\n",
    "pizza = {\n",
    "    'crust':'thick',\n",
    "    'toppings' : ['mushrooms', 'extra cheese']\n",
    "}\n",
    "\n",
    "# Summarize the order\n",
    "print(\"You ordered a \" + pizza['crust'] + \"-crust pizza \" +\n",
    "     \"with the following toppings: \" + pizza['toppings'][0] + \", \" + pizza['toppings'][1] + \".\")\n",
    "\n",
    "for topping in pizza['toppings']:\n",
    "    print(\"\\t\" + topping)"
   ]
  },
  {
   "cell_type": "code",
   "execution_count": 64,
   "metadata": {},
   "outputs": [
    {
     "name": "stdout",
     "output_type": "stream",
     "text": [
      "\n",
      "Jen's favorite languages are:\n",
      "\tPython\n",
      "\tRuby\n",
      "\n",
      "Sarah's favorite language is:\n",
      "\tC\n",
      "\n",
      "Edward's favorite languages are:\n",
      "\tRuby\n",
      "\tGo\n",
      "\n",
      "Phil's favorite languages are:\n",
      "\tPython\n",
      "\tHaskell\n"
     ]
    }
   ],
   "source": [
    "fav_langs = {\n",
    "    'jen': ['python', 'ruby'],\n",
    "    'sarah':['c'],\n",
    "    'edward':['ruby','go'],\n",
    "    'phil':['python', 'haskell']\n",
    "}\n",
    "\n",
    "for person, langs in fav_langs.items():\n",
    "    if len(langs) == 1: \n",
    "        print(\"\\n\" + person.title() + \"'s favorite language is:\")\n",
    "    elif len(langs) > 1:\n",
    "        print(\"\\n\" + person.title() + \"'s favorite languages are:\")\n",
    "        \n",
    "    for lang in langs:\n",
    "        print(\"\\t\" + lang.title())"
   ]
  },
  {
   "cell_type": "code",
   "execution_count": 67,
   "metadata": {},
   "outputs": [
    {
     "name": "stdout",
     "output_type": "stream",
     "text": [
      "\n",
      "Username: aeinstein\n",
      "\tFull name: Albert Einstein\n",
      "\tLocation: Princeton\n",
      "\n",
      "Username: mcurie\n",
      "\tFull name: Marie Curie\n",
      "\tLocation: Paris\n"
     ]
    }
   ],
   "source": [
    "# A dictionary in a dictionary\n",
    "\n",
    "users = {\n",
    "    'aeinstein': {\n",
    "        'first' : 'albert',\n",
    "        'last' : 'einstein',\n",
    "        'location' : 'princeton'  \n",
    "    },\n",
    "    'mcurie' : {\n",
    "        'first': 'marie',\n",
    "        'last': 'curie',\n",
    "        'location': 'paris'\n",
    "    }\n",
    "}\n",
    "\n",
    "for user_name, user_info in users.items():\n",
    "    print(\"\\nUsername: \" + user_name)\n",
    "    print(\"\\tFull name: \" + user_info['first'].title() + \" \" + user_info['last'].title())\n",
    "    print(\"\\tLocation: \" + user_info['location'].title())"
   ]
  },
  {
   "cell_type": "code",
   "execution_count": 73,
   "metadata": {},
   "outputs": [
    {
     "name": "stdout",
     "output_type": "stream",
     "text": [
      "\n",
      "Persona: mcmorales\n",
      "\t Full name: Marcos Morales\n",
      "\t Age: 33\n",
      "\t Ciudad: Guatemala\n",
      "\n",
      "Persona: jsguzman\n",
      "\t Full name: Jenniffer Guzmán\n",
      "\t Age: 35\n",
      "\t Ciudad: Guatemala\n",
      "\n",
      "Persona: mealdana\n",
      "\t Full name: María Aldana\n",
      "\t Age: 34\n",
      "\t Ciudad: Guatemala\n"
     ]
    }
   ],
   "source": [
    "# Ex 6-7 People\n",
    "\n",
    "marcosc = {'first_name':'marcos','last_name':'morales', 'age': 33, 'city':'guatemala'}\n",
    "jennyg = {'first_name':'jenniffer', 'last_name':'guzmán', 'age' : 35, 'city': 'guatemala'}\n",
    "mariaa = {'first_name':'maría', 'last_name':'aldana', 'age' : 34, 'city': 'guatemala'}\n",
    "\n",
    "people = {\n",
    "    'mcmorales' : {'first_name':'marcos','last_name':'morales', 'age': 33, 'city':'guatemala'},\n",
    "    'jsguzman': jennyg,\n",
    "    'mealdana' : mariaa\n",
    "}\n",
    "\n",
    "for person, info in people.items():\n",
    "    print(\"\\nPersona: \" + person)\n",
    "    print(\"\\t Full name: \" + info['first_name'].title() + \" \" + info['last_name'].title())\n",
    "    print(\"\\t Age: \" + str(info['age']))\n",
    "    print(\"\\t Ciudad: \" + str(info['city'].title()))"
   ]
  },
  {
   "cell_type": "code",
   "execution_count": 82,
   "metadata": {},
   "outputs": [
    {
     "name": "stdout",
     "output_type": "stream",
     "text": [
      "\n",
      "\n",
      "Name: Amelia\n",
      "Type: Dog\n",
      "Age: 4\n",
      "\n",
      "\n",
      "Name: Olivia\n",
      "Type: Dog\n",
      "Age: 3\n",
      "\n",
      "\n",
      "Name: Matilda\n",
      "Type: Dog\n",
      "Age: 1.5\n"
     ]
    }
   ],
   "source": [
    "# Ex 6-8 Pets\n",
    "\n",
    "amelia = {\n",
    "    'name':'amelia',\n",
    "    'type':'dog',\n",
    "    'age':4\n",
    "}\n",
    "\n",
    "olivia = {\n",
    "    'name':'olivia',\n",
    "    'type':'dog',\n",
    "    'age':3\n",
    "}\n",
    "\n",
    "matilda = {\n",
    "    'name':'matilda',\n",
    "    'type':'dog',\n",
    "    'age':1.5\n",
    "}\n",
    "\n",
    "pets = [amelia, olivia, matilda]\n",
    "\n",
    "for pet in pets:\n",
    "    print(\"\\n\")\n",
    "    for x, y in pet.items():\n",
    "        print(x.title() + \": \" + str(y).title())"
   ]
  },
  {
   "cell_type": "code",
   "execution_count": 84,
   "metadata": {},
   "outputs": [
    {
     "name": "stdout",
     "output_type": "stream",
     "text": [
      "El lugar favorito de Marcos es Japon.\n",
      "El lugar favorito de Jenny es Grecia.\n",
      "El lugar favorito de Sol es Cuchumatanes.\n"
     ]
    }
   ],
   "source": [
    "# Ex 6-9 Favorite places\n",
    "\n",
    "fav_places = {\n",
    "    'marcos' : 'japon',\n",
    "    'jenny' : 'grecia', \n",
    "    'sol': 'cuchumatanes'\n",
    "}\n",
    "\n",
    "for x, y in fav_places.items():\n",
    "    print(\"El lugar favorito de \" + x.title() + \" es \" + y.title() + \".\")\n",
    "    \n",
    "    "
   ]
  },
  {
   "cell_type": "code",
   "execution_count": 89,
   "metadata": {},
   "outputs": [
    {
     "name": "stdout",
     "output_type": "stream",
     "text": [
      "Los números favoritos de Jenny son: 1 y 2.\n",
      "Los números favoritos de Maria son: 2 y 3.\n",
      "Los números favoritos de Mar son: 3 y 4.\n",
      "Los números favoritos de Michy son: 4 y 5.\n",
      "\n",
      "Los números favoritos de Jenny son: \n",
      "\t1\n",
      "\t2\n",
      "\n",
      "Los números favoritos de Maria son: \n",
      "\t2\n",
      "\t3\n",
      "\n",
      "Los números favoritos de Mar son: \n",
      "\t3\n",
      "\t4\n",
      "\n",
      "Los números favoritos de Michy son: \n",
      "\t4\n",
      "\t5\n"
     ]
    }
   ],
   "source": [
    "# Ex 6-10\n",
    "# Favorite numbers\n",
    "\n",
    "fav_numbers = {\n",
    "    'jenny': [1, 2], \n",
    "    'maria': [2, 3], \n",
    "    'mar': [3, 4], \n",
    "    'michy': [4, 5]\n",
    "}\n",
    "\n",
    "for name, numbers in fav_numbers.items():\n",
    "    print('Los números favoritos de ' + name.title() + ' son: ' + str(numbers[0]) + \" y \" + str(numbers[1]) + '.')\n",
    "    \n",
    "for name, numbers in fav_numbers.items():\n",
    "    print('\\nLos números favoritos de ' + name.title() + ' son: ')\n",
    "    for number in numbers:\n",
    "        print('\\t'+ str(number))"
   ]
  }
 ],
 "metadata": {
  "kernelspec": {
   "display_name": "Python 3",
   "language": "python",
   "name": "python3"
  },
  "language_info": {
   "codemirror_mode": {
    "name": "ipython",
    "version": 3
   },
   "file_extension": ".py",
   "mimetype": "text/x-python",
   "name": "python",
   "nbconvert_exporter": "python",
   "pygments_lexer": "ipython3",
   "version": "3.6.6"
  }
 },
 "nbformat": 4,
 "nbformat_minor": 2
}
