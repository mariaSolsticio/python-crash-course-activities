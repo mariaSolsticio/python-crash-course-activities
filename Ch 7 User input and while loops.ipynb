{
 "cells": [
  {
   "cell_type": "code",
   "execution_count": null,
   "metadata": {},
   "outputs": [],
   "source": [
    "# Testing it!\n",
    "message = input(\"Tell me something, and I will repeat it back to you: \")\n",
    "print(message)"
   ]
  },
  {
   "cell_type": "code",
   "execution_count": null,
   "metadata": {},
   "outputs": [],
   "source": [
    "age = input(\"How old are you? \")\n",
    "print(age)"
   ]
  },
  {
   "cell_type": "code",
   "execution_count": null,
   "metadata": {},
   "outputs": [],
   "source": [
    "# Testing if a number is odd or even.\n",
    "number = input(\"Enter a number, and I'll tell you if it's even or odd: \")\n",
    "number = int(number)\n",
    "\n",
    "if number%2 == 0:\n",
    "    print(\"The number you provided is even.\")\n",
    "else:\n",
    "    print(\"The number you provided is odd.\")"
   ]
  },
  {
   "cell_type": "code",
   "execution_count": null,
   "metadata": {},
   "outputs": [],
   "source": [
    "# Ex 7-1 Rental car\n",
    "car = input(\"What car would you like to rent? \")\n",
    "print(\"Let me see if I can find you a \" + car + \".\")"
   ]
  },
  {
   "cell_type": "code",
   "execution_count": null,
   "metadata": {},
   "outputs": [],
   "source": [
    "# Ex 7-2 Restaurant seating\n",
    "people = input(\"Cuántas personas hay en su grupo de almuerzo? \")\n",
    "\n",
    "if int(people) > 8:\n",
    "    print(\"Van a tener que esperar por una mesa.\")\n",
    "else:\n",
    "    print(\"Tenemos una mesa lista.\")\n"
   ]
  },
  {
   "cell_type": "code",
   "execution_count": null,
   "metadata": {},
   "outputs": [],
   "source": [
    "userInput = 0\n",
    "while True:\n",
    "  try:\n",
    "     userInput = int(input(\"Enter something: \"))       \n",
    "  except ValueError:\n",
    "     print(\"Not an integer!\")\n",
    "     continue\n",
    "  else:\n",
    "     print(\"Yes an integer!\")\n",
    "     break "
   ]
  },
  {
   "cell_type": "code",
   "execution_count": null,
   "metadata": {},
   "outputs": [],
   "source": [
    "# Ex 7-3 Multiple of Ten\n",
    "number = input(\"Dame un número: \")\n",
    "\n",
    "if int(number)%10 == 0:\n",
    "    print(\"El número es múltiplo de 10.\")\n",
    "else:\n",
    "    print(\"El número no es múltiplo de 10.\")"
   ]
  },
  {
   "cell_type": "code",
   "execution_count": null,
   "metadata": {},
   "outputs": [],
   "source": [
    "# Testing the while loop.\n",
    "prompt = \"\\nTell me something, and I will repeate it back to you: \"\n",
    "prompt += \"\\nEnter 'quit' to end the program.\"\n",
    "\n",
    "message = \" \" \n",
    "active = True\n",
    "\n",
    "while active:\n",
    "    message = input(prompt)\n",
    "    \n",
    "    if message != 'quit': \n",
    "        print(message)\n",
    "    else:\n",
    "        active = False\n",
    "        "
   ]
  },
  {
   "cell_type": "code",
   "execution_count": null,
   "metadata": {},
   "outputs": [],
   "source": [
    "# Testing the break instruction\n",
    "\n",
    "prompt = \"\\nPlease enter a name of a city you have visited: \"\n",
    "prompt += \"\\n(Enter 'quit' when you are finished.)\"\n",
    "\n",
    "while True:\n",
    "    city = input(prompt)\n",
    "    \n",
    "    if city == 'quit':\n",
    "        break\n",
    "    else:\n",
    "        print(\"I'd love to go to \" + city.title() + \"!\")"
   ]
  },
  {
   "cell_type": "code",
   "execution_count": null,
   "metadata": {},
   "outputs": [],
   "source": [
    "# Testing the continue loop\n",
    "\n",
    "current_number = 0\n",
    "\n",
    "while current_number < 10:\n",
    "    current_number += 1\n",
    "    if current_number%2 == 0: continue\n",
    "    \n",
    "    print(current_number)"
   ]
  },
  {
   "cell_type": "code",
   "execution_count": null,
   "metadata": {},
   "outputs": [],
   "source": [
    "# Ex 7-4: Pizza toppings - Write a loop that prompts the user to enter a series of pizza toppings \n",
    "# until they enter a 'quit'.  As they enter each topping, print a message saying you'll add that topping\n",
    "# to their pizza.  \n",
    "\n",
    "prompt = \"\\nQué topping quieres en tu pizza? Agrégalo aquí: \"\n",
    "prompt += \"\\nSi ya terminaste de agregar, escribe 'quit'. \"\n",
    "\n",
    "toppings = []\n",
    "message = \" \"\n",
    "active = True\n",
    "\n",
    "while active==True:\n",
    "    message = input(prompt)\n",
    "    \n",
    "    if message == 'quit':\n",
    "        active = False\n",
    "    else:\n",
    "        toppings.append(message)\n",
    "\n",
    "if len(toppings) != 0: \n",
    "    print(\"\\nTus toppings son: \")\n",
    "    for topping in toppings:\n",
    "        print(topping)\n",
    "    \n"
   ]
  },
  {
   "cell_type": "code",
   "execution_count": null,
   "metadata": {},
   "outputs": [],
   "source": [
    "# Ex 7-5 Movie tickets: A movie theater charges different ticket prices depending on a person's age.\n",
    "# If a person is under the age of 3, the ticket is free; if they are between 3 and 12, the ticket is $10;\n",
    "# and if they are over age 12, the ticket is $15.  Write a loop in which you ask users their age, and then tell them\n",
    "# the cost of their movie ticket.\n",
    "\n",
    "prompt = \"\\nDime las edades y te diré el precio.\"\n",
    "prompt += \"\\nPara dejar de registrar edades, escribe 'quit'. \"\n",
    "\n",
    "edad=\"\"\n",
    "active = True\n",
    "\n",
    "while active == True:\n",
    "    edad=input(prompt)\n",
    "    \n",
    "    if edad != 'quit':\n",
    "        if int(edad) < 3:\n",
    "            print(\"Tu ticket es gratis!\")\n",
    "        elif int(edad) < 12: \n",
    "            print(\"Tu ticket vale $10.\")\n",
    "        else:\n",
    "            print(\"Tu ticket vale $15.\")\n",
    "    else:\n",
    "        active = False\n"
   ]
  },
  {
   "cell_type": "code",
   "execution_count": 23,
   "metadata": {},
   "outputs": [
    {
     "name": "stdout",
     "output_type": "stream",
     "text": [
      "Verifying user: Candance\n",
      "Verifying user: Brian\n",
      "Verifying user: Alice\n",
      "\n",
      "The following users have been confirmed: \n",
      "Candance\n",
      "Brian\n",
      "Alice\n"
     ]
    }
   ],
   "source": [
    "# Testing how to move users from one list to other for verification.\n",
    "unconfirmed_users = ['alice', 'brian', 'candance']\n",
    "verified_users = []\n",
    "\n",
    "# Verify each user until there are no more unconfirmed users.\n",
    "# Move each verified user into the list of confirmed users.\n",
    "\n",
    "while unconfirmed_users:\n",
    "    current_user = unconfirmed_users.pop()\n",
    "    \n",
    "    print(\"Verifying user: \" + current_user.title())\n",
    "    verified_users.append(current_user)\n",
    "    \n",
    "# Display all confirmed users.\n",
    "print(\"\\nThe following users have been confirmed: \")\n",
    "\n",
    "for user in verified_users:\n",
    "    print(user.title())"
   ]
  },
  {
   "cell_type": "code",
   "execution_count": 24,
   "metadata": {},
   "outputs": [
    {
     "name": "stdout",
     "output_type": "stream",
     "text": [
      "['dog', 'cat', 'dog', 'goldfish', 'cat', 'rabbit', 'cat']\n",
      "['dog', 'dog', 'goldfish', 'rabbit']\n"
     ]
    }
   ],
   "source": [
    "# Removing all instances of specific values from a list\n",
    "pets = ['dog', 'cat', 'dog', 'goldfish', 'cat', 'rabbit', 'cat']\n",
    "print(pets)\n",
    "\n",
    "while 'cat' in pets:\n",
    "    pets.remove('cat')\n",
    "\n",
    "print(pets)"
   ]
  },
  {
   "cell_type": "code",
   "execution_count": 26,
   "metadata": {},
   "outputs": [
    {
     "name": "stdout",
     "output_type": "stream",
     "text": [
      "\n",
      "Cuál es su nombre? Sol\n",
      "Which mountain would you like to climb someday? a\n",
      "Would you like to let another person respond? (yes/no) yes\n",
      "\n",
      "Cuál es su nombre? Marcos\n",
      "Which mountain would you like to climb someday? b\n",
      "Would you like to let another person respond? (yes/no) yes\n",
      "\n",
      "Cuál es su nombre? Ofelia\n",
      "Which mountain would you like to climb someday? c\n",
      "Would you like to let another person respond? (yes/no) no\n",
      "\n",
      " - - - Poll Results - - - \n",
      "Sol would like to climb a.\n",
      "Marcos would like to climb b.\n",
      "Ofelia would like to climb c.\n"
     ]
    }
   ],
   "source": [
    "# Filling a dictionary with user input\n",
    "\n",
    "responses = {}\n",
    "\n",
    "# Set a flag to indicate that polling is active.\n",
    "polling_active = True\n",
    "\n",
    "while polling_active == True:\n",
    "    # Prompt for the person's name and response.\n",
    "    name = input(\"\\nCuál es su nombre? \")\n",
    "    response = input(\"Which mountain would you like to climb someday? \")\n",
    "    \n",
    "    # Store the response in the dictionary.\n",
    "    responses[name] = response\n",
    "    \n",
    "    # Find out if anyone else is going to take the poll.\n",
    "    repeat = input(\"Would you like to let another person respond? (yes/no) \")\n",
    "    if repeat == 'no':\n",
    "        polling_active = False\n",
    "        \n",
    "# Polling is complete.  Show the results.\n",
    "print(\"\\n - - - Poll Results - - - \")\n",
    "for name, response in responses.items():\n",
    "    print(name + \" would like to climb \" + response + \".\")"
   ]
  },
  {
   "cell_type": "code",
   "execution_count": null,
   "metadata": {},
   "outputs": [],
   "source": []
  }
 ],
 "metadata": {
  "kernelspec": {
   "display_name": "Python 3",
   "language": "python",
   "name": "python3"
  },
  "language_info": {
   "codemirror_mode": {
    "name": "ipython",
    "version": 3
   },
   "file_extension": ".py",
   "mimetype": "text/x-python",
   "name": "python",
   "nbconvert_exporter": "python",
   "pygments_lexer": "ipython3",
   "version": "3.7.0"
  }
 },
 "nbformat": 4,
 "nbformat_minor": 2
}
