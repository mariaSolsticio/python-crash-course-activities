{
 "cells": [
  {
   "cell_type": "code",
   "execution_count": null,
   "metadata": {},
   "outputs": [],
   "source": [
    "# Learning how to loop through an entire list.\n",
    "magicians=['alice', 'david', 'carolina']\n",
    "for magician in magicians:\n",
    "    print(magician)\n",
    "\n",
    "# Tell the magicians they are doing great.\n",
    "for magician in magicians:\n",
    "    print(magician.title() + \", you're doing great!\")"
   ]
  },
  {
   "cell_type": "code",
   "execution_count": null,
   "metadata": {
    "scrolled": true
   },
   "outputs": [],
   "source": [
    "# Ex 4-1\n",
    "# Create a list of pizzas and use a loop to go through each.\n",
    "pizzas = ['margarita', 'veggie', 'funghi']\n",
    "for pizza in pizzas:\n",
    "    print(\"Me gusta la pizza \" + pizza.title() + \".\")\n",
    "    \n",
    "print(\"La pizza me gusta... pero de vegana \\\n",
    "no hay tanta opción.\")"
   ]
  },
  {
   "cell_type": "code",
   "execution_count": null,
   "metadata": {},
   "outputs": [],
   "source": [
    "# Making numerical lists\n",
    "\n",
    "for value in range(1,5):\n",
    "    print(value)\n",
    "\n",
    "numbers = list(range(1,6))\n",
    "print(numbers)\n",
    "\n",
    "even_numbers=list(range(2,12,2))\n",
    "print(even_numbers)\n",
    "\n",
    "odd_numbers=list(range(1,12,2))\n",
    "print(odd_numbers)\n",
    "\n",
    "# Printing out an array of squared numbers\n",
    "\n",
    "squares=[]\n",
    "for value in range(1,11):\n",
    "    square = value**2\n",
    "    squares.append(square)\n",
    "    \n",
    "print(squares)\n",
    "    \n"
   ]
  },
  {
   "cell_type": "code",
   "execution_count": null,
   "metadata": {},
   "outputs": [],
   "source": [
    "# Simple statistics with a list of numbers\n",
    "# Find the minimum, maximum and sum of a list of numbers.\n",
    "\n",
    "numbers = list(range(1,11))\n",
    "print(numbers)\n",
    "print(min(numbers))\n",
    "print(max(numbers))\n",
    "print(sum(numbers))"
   ]
  },
  {
   "cell_type": "code",
   "execution_count": null,
   "metadata": {},
   "outputs": [],
   "source": [
    "# Ex 4-3\n",
    "\n",
    "# Use a for loop to print the numbers from 1 to 20, inclusive\n",
    "\n",
    "xs=[]\n",
    "for x in range(1,21):\n",
    "    xs.append(x)\n",
    "\n",
    "print(xs)\n",
    "\n",
    "#Comprehension\n",
    "\n",
    "xs=[]\n",
    "xs=[xs.append(x) for x in range(1,21)]\n",
    "print(xs)\n"
   ]
  },
  {
   "cell_type": "code",
   "execution_count": null,
   "metadata": {},
   "outputs": [],
   "source": [
    "# Ex 4-4\n",
    "# One Million: Make a list of the numbers form one to one million, and then use a for loop to print the numbers. \n",
    "# If it takes too long, cmd+C to stop it!\n",
    "\n",
    "million=list(range(1,1000001))\n",
    "print(million)"
   ]
  },
  {
   "cell_type": "code",
   "execution_count": null,
   "metadata": {},
   "outputs": [],
   "source": [
    "# Ex 4-5\n",
    "# Make a list of the numbers from one to a thousand.  Use min() and max() to make sure your list actually starts at one and ends at one thousand.\n",
    "# Use the sum() function to see how quickly Python can add all the numbers.\n",
    "\n",
    "miles = list(range(1,1001))\n",
    "print(min(miles))\n",
    "print(max(miles))\n",
    "sum(miles)\n"
   ]
  },
  {
   "cell_type": "code",
   "execution_count": null,
   "metadata": {},
   "outputs": [],
   "source": [
    "# Ex 4-6\n",
    "# Use the third argument of the range() function to make a list of the odd numbers from 1 to 20.  Use a loop to print each number.\n",
    "\n",
    "odd_numbers=list(range(1,21,2))\n",
    "for o_number in odd_numbers:\n",
    "    print(o_number)"
   ]
  },
  {
   "cell_type": "code",
   "execution_count": null,
   "metadata": {},
   "outputs": [],
   "source": [
    "# Ex 4-7\n",
    "# Threes: Make a list of the multiples of 3 from 3 to 30.  Use a for loop to print the numbers in your list.\n",
    "\n",
    "three_multiples=list(range(3,31,3))\n",
    "for three_multiple in three_multiples:\n",
    "    print(three_multiple)"
   ]
  },
  {
   "cell_type": "code",
   "execution_count": null,
   "metadata": {},
   "outputs": [],
   "source": [
    "# Ex 4-8\n",
    "# Cubes: a number raised to the third power is called a cubed.  Make a list of the first 10 cubes.  Use a for \n",
    "# loop to print each value.\n",
    "\n",
    "# Normal for loop\n",
    "cubes=[]\n",
    "for cube in range(1,11):\n",
    "    cubes.append(cube**3)\n",
    "print(cubes)\n",
    "\n",
    "\n",
    "# Comprehension\n",
    "cubes = [x**3 for x in range(1,11)]\n",
    "print(cubes)"
   ]
  },
  {
   "cell_type": "code",
   "execution_count": 56,
   "metadata": {},
   "outputs": [
    {
     "name": "stdout",
     "output_type": "stream",
     "text": [
      "[1, 2, 3]\n",
      "4  5  6  \n",
      "Three items from the middle of the list are: 4  5  6  \n",
      "8  9  10  \n",
      "The last three items from the list are: 8  9  10  \n"
     ]
    }
   ],
   "source": [
    "# Ex 4-10\n",
    "# Slices\n",
    "\n",
    "numbers = list(range(1,11))\n",
    "\n",
    "print(numbers[0:3])\n",
    "\n",
    "slice1 = numbers[3:6]\n",
    "mes1 = \"\"\n",
    "for x in slice1:\n",
    "    mes1 = mes1 + str(x) + \"  \"\n",
    "print(mes1)\n",
    "print(\"Three items from the middle of the list are: \" + mes1)\n",
    "\n",
    "slice2 = numbers[-3:]\n",
    "mes2 = \"\"\n",
    "for x in slice2:\n",
    "    mes2 = mes2 + str(x) + \"  \"\n",
    "print(mes2)\n",
    "print(\"The last three items from the list are: \"+ mes2)"
   ]
  },
  {
   "cell_type": "code",
   "execution_count": 58,
   "metadata": {},
   "outputs": [
    {
     "name": "stdout",
     "output_type": "stream",
     "text": [
      "['margarita', 'veggie', 'fungi', 'beans']\n",
      "['margarita', 'veggie', 'fungi', 'meat']\n",
      "margarita\n",
      "veggie\n",
      "fungi\n",
      "beans\n",
      "margarita\n",
      "veggie\n",
      "fungi\n",
      "meat\n"
     ]
    }
   ],
   "source": [
    "# Ex 4-11\n",
    "# Make a copy of a list of pizzas and call it friend_pizzas.\n",
    "\n",
    "my_pizzas = ['margarita', 'veggie', 'fungi']\n",
    "friend_pizzas = my_pizzas[:]\n",
    "\n",
    "my_pizzas.append('beans')\n",
    "friend_pizzas.append('meat')\n",
    "\n",
    "print(my_pizzas)\n",
    "print(friend_pizzas)\n",
    "\n",
    "for pizza in my_pizzas:\n",
    "    print(pizza)\n",
    "    \n",
    "for pizza in friend_pizzas:\n",
    "    print(pizza)"
   ]
  },
  {
   "cell_type": "code",
   "execution_count": 3,
   "metadata": {},
   "outputs": [
    {
     "name": "stdout",
     "output_type": "stream",
     "text": [
      "tofu\n",
      "beans\n",
      "chickpeas\n",
      "lentils\n",
      "seitan\n",
      "('tofu', 'beans', 'chickpeas', 'lentils', 'seitan')\n",
      "('tofu', 'beans', 'chickpeas', 'mushroom', 'bread')\n"
     ]
    }
   ],
   "source": [
    "# Tuples\n",
    "foods = ('tofu', 'beans', 'chickpeas', 'lentils', 'seitan')\n",
    "\n",
    "for food in foods:\n",
    "    print(food)\n",
    "    \n",
    "print(foods)\n",
    "new_foods = (foods[0], foods[1], foods[2], 'mushroom', 'bread')\n",
    "print(new_foods)\n",
    "\n"
   ]
  }
 ],
 "metadata": {
  "kernelspec": {
   "display_name": "Python 3",
   "language": "python",
   "name": "python3"
  },
  "language_info": {
   "codemirror_mode": {
    "name": "ipython",
    "version": 3
   },
   "file_extension": ".py",
   "mimetype": "text/x-python",
   "name": "python",
   "nbconvert_exporter": "python",
   "pygments_lexer": "ipython3",
   "version": "3.7.0"
  }
 },
 "nbformat": 4,
 "nbformat_minor": 2
}
